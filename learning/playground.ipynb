{
 "cells": [
  {
   "cell_type": "code",
   "execution_count": 24,
   "metadata": {},
   "outputs": [],
   "source": [
    "%matplotlib inline\n",
    "import numpy as np\n",
    "import matplotlib.pyplot as plt\n",
    "\n",
    "from matplotlib import animation, rc\n",
    "from IPython.display import HTML\n",
    "from sympy import *"
   ]
  },
  {
   "cell_type": "markdown",
   "metadata": {},
   "source": [
    "## Symbolic manipulation"
   ]
  },
  {
   "cell_type": "code",
   "execution_count": 25,
   "metadata": {},
   "outputs": [],
   "source": [
    "init_printing(use_unicode=True) # doctest: +SKIP"
   ]
  },
  {
   "cell_type": "code",
   "execution_count": 26,
   "metadata": {},
   "outputs": [],
   "source": [
    "x,y,z,t,mu,nu=symbols('x y z t mu nu')\n",
    "k,m,n=symbols('k m n', integer=True)\n",
    "f,g,h=symbols('f g h', cls=Function)\n",
    "i=sqrt(-1)"
   ]
  },
  {
   "cell_type": "code",
   "execution_count": 27,
   "metadata": {
    "slideshow": {
     "slide_type": "-"
    }
   },
   "outputs": [
    {
     "data": {
      "image/png": "[encoded data removed]",
      "text/latex": [
       "$$x$$"
      ],
      "text/plain": [
       "x"
      ]
     },
     "execution_count": 27,
     "metadata": {},
     "output_type": "execute_result"
    }
   ],
   "source": [
    "x"
   ]
  },
  {
   "cell_type": "code",
   "execution_count": 28,
   "metadata": {},
   "outputs": [
    {
     "data": {
      "image/png": "[encoded data removed]",
      "text/latex": [
       "$$\\sin{\\left (x + 2 \\right )}$$"
      ],
      "text/plain": [
       "sin(x + 2)"
      ]
     },
     "execution_count": 28,
     "metadata": {},
     "output_type": "execute_result"
    }
   ],
   "source": [
    "sin(x+2)"
   ]
  },
  {
   "cell_type": "code",
   "execution_count": 29,
   "metadata": {},
   "outputs": [
    {
     "data": {
      "image/png": "[encoded data removed]",
      "text/latex": [
       "$$\\sqrt{2}$$"
      ],
      "text/plain": [
       "√2"
      ]
     },
     "execution_count": 29,
     "metadata": {},
     "output_type": "execute_result"
    }
   ],
   "source": [
    "sqrt(2)"
   ]
  },
  {
   "cell_type": "code",
   "execution_count": 30,
   "metadata": {},
   "outputs": [
    {
     "data": {
      "image/png": "[encoded data removed]",
      "text/latex": [
       "$$\\sqrt{\\pi}$$"
      ],
      "text/plain": [
       "√π"
      ]
     },
     "execution_count": 30,
     "metadata": {},
     "output_type": "execute_result"
    }
   ],
   "source": [
    "sqrt(pi)"
   ]
  },
  {
   "cell_type": "code",
   "execution_count": 31,
   "metadata": {},
   "outputs": [
    {
     "data": {
      "image/png": "[encoded data removed]",
      "text/latex": [
       "$$e + \\pi$$"
      ],
      "text/plain": [
       "ℯ + π"
      ]
     },
     "execution_count": 31,
     "metadata": {},
     "output_type": "execute_result"
    }
   ],
   "source": [
    "pi+exp(1)"
   ]
  },
  {
   "cell_type": "code",
   "execution_count": 32,
   "metadata": {},
   "outputs": [
    {
     "data": {
      "image/png": "[encoded data removed]",
      "text/latex": [
       "$$e^{\\sqrt{2} i \\pi}$$"
      ],
      "text/plain": [
       " √2⋅ⅈ⋅π\n",
       "ℯ      "
      ]
     },
     "execution_count": 32,
     "metadata": {},
     "output_type": "execute_result"
    }
   ],
   "source": [
    "exp(pi*i*sqrt(2))"
   ]
  },
  {
   "cell_type": "code",
   "execution_count": 33,
   "metadata": {},
   "outputs": [
    {
     "data": {
      "image/png": "[encoded data removed]",
      "text/latex": [
       "$$3.14159265358979323846264338328$$"
      ],
      "text/plain": [
       "3.14159265358979323846264338328"
      ]
     },
     "execution_count": 33,
     "metadata": {},
     "output_type": "execute_result"
    }
   ],
   "source": [
    "pi.evalf(30,chop=True)"
   ]
  },
  {
   "cell_type": "markdown",
   "metadata": {},
   "source": [
    "## Plots"
   ]
  },
  {
   "cell_type": "code",
   "execution_count": 56,
   "metadata": {
    "slideshow": {
     "slide_type": "-"
    }
   },
   "outputs": [
    {
     "data": {
      "image/png": "[encoded data removed]",
      "text/plain": [
       "<Figure size 432x288 with 1 Axes>"
      ]
     },
     "metadata": {
      "needs_background": "light"
     },
     "output_type": "display_data"
    }
   ],
   "source": [
    "fig, axes = plt.subplots()\n",
    "axes.set_xlim(( 0, 2))\n",
    "axes.set_ylim((-10, 10))\n",
    "line, = axes.plot([], [], lw = 1.5)"
   ]
  },
  {
   "cell_type": "code",
   "execution_count": 63,
   "metadata": {},
   "outputs": [],
   "source": [
    "def init():\n",
    "    line.set_data([], [])\n",
    "    return (line,)\n",
    "def animator(f, frames):\n",
    "    x = np.linspace(0, 2, 1000)\n",
    "    y = np.sin(2 * np.pi * (x - 1.0/frames * f) * np.cos(x - 1.0/frames * f)) * (f * 4.0/frames + 1.0)\n",
    "    line.set_data(x, y)\n",
    "    return (line,)"
   ]
  },
  {
   "cell_type": "code",
   "execution_count": 64,
   "metadata": {},
   "outputs": [],
   "source": [
    "anim = animation.FuncAnimation(fig, lambda f:animator(f,120), init_func=init,\n",
    "                               frames=120, interval=20, \n",
    "                               blit=True)"
   ]
  },
  {
   "cell_type": "code",
   "execution_count": 65,
   "metadata": {},
   "outputs": [
    {
     "data": {
      "text/html": [
       "<video width=\"432\" height=\"288\" controls autoplay loop>\n",
       "  <source type=\"video/mp4\" src=\"data:video/mp4;base64,AAAAHGZ0eXBNNFYgAAACAGlzb21pc28yYXZjMQAAAAhmcmVlAABmgW1kYXQAAAKgBgX//5zcRem9\n",
       "5tlIt5Ys2CDZI+7veDI2NCAtIGNvcmUgMTUyIC0gSC4yNjQvTVBFRy00IEFWQyBjb2RlYyAtIENv\n",
       "cHlsZWZ0IDIwMDMtMjAxNyAtIGh0dHA6Ly93d3cudmlkZW9sYW4ub3JnL3gyNjQuaHRtbCAtIG9w\n",
       "dGlvbnM6IGNhYmFjPTEgcmVmPTMgZGVibG9jaz0xOjA6MCBhbmFseXNlPTB4MzoweDExMyBtZT1o\n",
       "ZXggc3VibWU9NyBwc3k9MSBwc3lfcmQ9MS4wMDowLjAwIG1peGVkX3JlZj0xIG1lX3JhbmdlPTE2\n",
       "IGNocm9tYV9tZT0xIHRyZWxsaXM9MSA4eDhkY3Q9MSBjcW09MCBkZWFkem9uZT0yMSwxMSBmYXN0\n",
       "X3Bza2lwPTEgY2hyb21hX3FwX29mZnNldD0tMiB0aHJlYWRzPTkgbG9va2FoZWFkX3RocmVhZHM9\n",
       "MSBzbGljZWRfdGhyZWFkcz0wIG5yPTAgZGVjaW1hdGU9MSBpbnRlcmxhY2VkPTAgYmx1cmF5X2Nv\n",
       "bXBhdD0wIGNvbnN0cmFpbmVkX2ludHJhPTAgYmZyYW1lcz0zIGJfcHlyYW1pZD0yIGJfYWRhcHQ9\n",
       "MSBiX2JpYXM9MCBkaXJlY3Q9MSB3ZWlnaHRiPTEgb3Blbl9nb3A9MCB3ZWlnaHRwPTIga2V5aW50\n",
       "PTI1MCBrZXlpbnRfbWluPTI1IHNjZW5lY3V0PTQwIGludHJhX3JlZnJlc2g9MCByY19sb29rYWhl\n",
       "YWQ9NDAgcmM9Y3JmIG1idHJlZT0xIGNyZj0yMy4wIHFjb21wPTAuNjAgcXBtaW49MCBxcG1heD02\n",
       "OSBxcHN0ZXA9NCBpcF9yYXRpbz0xLjQwIGFxPTE6MS4wMACAAAAPk2WIhAAz//727L4FNf2f0JcR\n",
       "LMXaSnA+KqSAgHc0wAAAAwAAeRX8EmT9QGOAT08Q14+CkM1ORHNva56JtpaY6yo+8gSSUviqd3S7\n",
       "c1OI1JnCUMLalpMZXVA31ue68vslKEi38CrgfgAAAwCHR0/TbwJ4BYXb/3HFuUxEstXAWXc0Z+r1\n",
       "bUszncB5RR6ncP0eXLhIeYSxHmW7lA/ZWT9hvCv7x5Cdgk2RY3w0vNR7YYSCD2EoTGaqjyWlO+Xy\n",
       "C6mudzmu1tDrDd6fD/y4FL/Ky2a8IIiXBnbw75B8hsj5iJOKBOW4S1j8obUmZQ/7SCl49qfrChRl\n",
       "GqEgK4l638qy3MQqNROUbYHbAABEKCSgtRL+UTmViVQGVJYtwHX09x8xkk67y6fwPJJtvSFtAdvH\n",
       "L2laeMK41xBOjdBtPMXrlY5lvxf1Pa4hTOfBo6q9dmtvfMCLQM3nREdrHjmqnx6YO0IPQf/uWLqM\n",
       "/PfliyhQ8D98rvJwFrk3Myzgni+jiuNdCMXPoADVi1JdU9NxA+eoK2G85Ulo296ebpMHXefUP9ta\n",
       "ROdZXTUCLvd6D1D+qixXjRdijgASCkyVPc8HhB71eVwlkaxY4IzRq8HHQST1QhPaGeqMo52ogDLO\n",
       "F1kdR2MiRIhea3fxWu2J30hkeMCvPYKhpeCuPLSdW8nIQVgQq6BTW09ap7T6V2TrDCbOKE3P4OVb\n",
       "451dSXWh8qMamPUOgp1YhF+woRzACOySzdhr+WsG3ItwPtnQGC+DU9Zze1uOrnqhA3zZnWtbVyRm\n",
       "4N0sebNersSHxdGbNPd4ccKIZnDe3FwAb2mmerxE9c7aiCVKCodg+Y/x1kor81vDguIukg27EerC\n",
       "fPEKWpa4WInfsuCo5d3nf+zq1G4ccs9RhJs3xnI+/FysrCOA1OSsKDjjrAyIpvBn+VfW92JqBxIs\n",
       "1ECOBL/liax+G5swX4kJq86LvwInStQBFZsdMwZFQimGFTycRCMubM6oxQ0SDF4Kg4bu02sKasE+\n",
       "0KfEaGqdXx95pdU6M03f6GP4MMsn4gQLuU97/ezHlww6qr7bsa7sK+hFLb/6lAvJwjk1gypcbx1c\n",
       "t2k7uFkFhkHjOs12YE0fbhKUHpP/8O9ZVS/vDXjg+7/SZwROWiBi+OG/Yc03lVOmgtXY58S7zUNj\n",
       "rrs7OtXz88izCT3RYsEnmbiFdYyUUniSc366w3YI2o5fS4R9eYNzk6JGRD8gPgQqXLglIsciduxH\n",
       "dSeRw89J2RVWCcPLTQNOFphqgn21WugSJfZynnaywuBqyORKRLz54UVRVCjlhHaAn+NyqMV9/cEK\n",
       "u3pF6qXfPhmp9iShYY3ciDBt2WsgmOrvr8w3O12riAdnFN3Jx5BCm7nrtjVz6pPtY4N2xa6GYwfv\n",
       "nZjHewPRmhE8w5XrKOPCsXw0HCdCCwd4u1PsXU3x4mx/yS0+7MmXKSZjIreujv/o844uVzY3iR7T\n",
       "c1xtElmB8ZDxlkVzSytLAce/4dnI+t1KRWKSBqjMB9T96bt9ZerkqojdQLlSbC6z7M93WUNwZzG2\n",
       "MuARiTG/ChYiDbWWFo3Wa3H7flnHWdaviflVKTrNOvrjiJMXPj3Wu5R7xBJOKBibVoz3Eh4dqu/C\n",
       "ldeq38zgQKeCYy3X3JU/V6h4tFV283Fzuk2mKXR9jvSRkKhl3/7Jrsj5+kglPIgTt8x/AZpXj9TR\n",
       "AL0GYe2+ZGNTCz8nfInClH1PQQGcvt2/uqOM3GzoL/NhUqR77dxCU0UkDLxq1Pb8PSSzw/Bd9iFo\n",
       "YF4XI+ZCv8VH9XtjxwhSDau2SXGX+JAaOaSef4KbY8Mw90Oa5xFA2MeDdq+ru80/ASo1/MEEMeDr\n",
       "g76spFOyg3LZ1mgFOAjGl5usM6zf9dPTMVHg2CcT/KcnegF1RxxBA0Arg02c9fBLNxWxbGaRpju6\n",
       "+I/R3P2G8n086Uo0bB76/qQPBt8M2X1eBDD7lgTn7fOTvt4I4cM6Od/ouJDqgOsBhBzSfMMReBbo\n",
       "kQmwEoz4hXNyF8YtyBL2moEssMfaljYn+dxSBoes3RrhNwhEcM4ipWBlaB2D2525zkyDNsBK9JzK\n",
       "C8E7Bzs1Msvs+1otjdTn7Fwqkz67F9PaZJzajrES7+5anXSZIZiF9ssVHC8PFqDKEyvfdILgw1ct\n",
       "OGaWBzzXZjnQKxfXA+dT/VEsc+ZfMHI5G7hMAPpIv64p0f2PIakYEUVP4babxd/57JqQXvEkEgD+\n",
       "5vpBSwAYeCbaGCI9qGdeYVhDoyf35BJkdbHKy7k2mstQYkI3LCrmgkLccPXhRLTA4KG2dVVlVX4E\n",
       "m59I7GYSeZA2fy5AEYI3M0rrLHK9ebMclrhtNxe1lq8XqkZ4+/aj+wpg2fsTTJygFPAXt2MhHrED\n",
       "sXRocupkgMLrRCf2u0+Ekos4gc2f9M8KugulLSgOQYBDhfBRw+CjlFdw1/Fs+xBbz8lZm3i4/T0/\n",
       "kGjHAXRqyWQjs8hnrPJlRuf/Fr/RejC9a79TR/KY2gGpDS15lg4fxknRucT3FlC/Zeb9zD0udljK\n",
       "yi5G8Di5X69pxyDZSjKIBD89OkFGVgl7AyUrFGyA2MdTgZoTEkebNlrGAQjo8/ZCjZ3BobwDdYe1\n",
       "TMpoLSgDd4Uaatf9QkDXp0i8SXAADRqXreYwy7YbxY/PmVyKYLR7UkPtIYsiNi7CWBuqYvmgvkwf\n",
       "USR+FDjmJEac+Fudg27B8tCs6Zt/Om2JclxxT2PIl0pJjyJIqmJUtxkW84sn1Ylzs5For0ydCh0g\n",
       "1pcd2Qa8QUW40DRsBUmuogVh+rXugE/s9tmOOKHBjioUtryDvacbO5q1Md5b+SqH/B7Dn2AJatJk\n",
       "emnwBznRcAkLritcEoaGl33Ncqtt5Db33k2IqqXPro+sfhKj8S7qD0EWphFHMKofEi3vea2tJsAr\n",
       "lSkpJN1uDmCxdlL0Mynb4XoSrTZSg2GaywL9z5pzKfCyMKLvzmPLrVLppM+7oRGqs/+VzRKZqMhD\n",
       "M3Z/M1foiX1xxQXyH8zGiYXkNQR+r9MgVXliiWzGBNJbKFh2dblDAFsKFNDi59wCg0Lm2/MjxnmP\n",
       "J/aJSR+HnZjUCbap9gnbOzpkNaWf62GaxqAMRCfCrgMEjTMUAjFoh+s3fWuH/Mti7HD0BKhIaqhv\n",
       "6fvZu+uO+i5LQMUcTURKPW8juNh4BhDIwhBShc51Pw1iWXXi0dQ6bOImiy2DM326MxXIp0mu4uo8\n",
       "iFC4Sr90LMiElHv2slrKzirWnMCFq6CR9YcwWfkpFxEpT6Xqx/FWhngbRV80IXY7yxhmnaGV0AZs\n",
       "v82bgZFEPD96FlH8AMvbCPwI/BapmB1zS6ge9wl1ws2TuWjWfMGj2LBdnHIKqYHhx4gY3lq9iEsX\n",
       "Qt23W0oCnej40RilesYPj3OAIk6sUdndZBBWDj/8PEFw6BSDEkE64KTXql+Ke1vAhkwH3flQP1cV\n",
       "P9Wgg6viQVXnnHQKIkyr8mbibPfMGb7+4YhuhBx1DkbgIB5NlJTgTrU0w/hPDjtGAOtPKr043CGz\n",
       "fjb7kC2fL/xNwzjNEwEt8mEZEm5pvlSp/NAsumUQs346D8Vn2nzoNYtKXfgwnTz5FeTz6L5zAX6J\n",
       "6+pt/awX1aGdbOkJuo1uk1L+fTLEYK0pxdz2J8BPshy2+7iQQwtz/4LpxP0et1TU470vaiF6+OAH\n",
       "EMugAnb+gmMrfS5I74y/Ms0XQhrUtRMGsv/S+TkzwkW53xXObvtGEv8wbBbg/glJDUDXJifL4fPo\n",
       "6jb9B6k2LT3QBoGn8K/IvRe2OT550ay5UvYdrFsGm1w193WIvqO8vJInkD+L+MZBNAuw0GrDZBfV\n",
       "UqlO1blFvlLgFksX7a5/mlhWTA7R+wtKWC2CwHfy629+D00hMvQji6w4JuCCcRWvqT48wxr/GLkk\n",
       "XiIEDN+n+dNQCmr+PEAFmcP018CUt/NorLRM69QmIS4Hd5l9x1qNa5qG0eRilWpgjflfufxKjj5A\n",
       "SZUXpaKoRx9z3gl7rLzd5XIRDzCuWSIz2EVERvFy3ATUdL5mG+0i7qNS53RX/Vm+NbsxGQJUKKBQ\n",
       "qZm4xlDTr2MjlgmOGzgcRZihDEXesWeBLKLiXXPm8WnC3WO3AHA09g3q6ZXCfuiwW8+5hU2vCsp1\n",
       "bXGiW1JkfzKTzcaFkyW6E2YbtjPN+K9y3TGT4sdlhHDbUZ9xyXWpymGkdgbGFaGs9ycVE801Yezf\n",
       "+s5LUKmu2W6r2iEkpqXSIQ2DD5U/Xyr6d4nyd3bJFxLLFoGCvjOxmdwlZFVtFbAIct9hXlUio2Aa\n",
       "9Jq7aI8Vjdo3CzPq8yI4WzevNw6oq57NluaM0YiFlvBHIU7CDmNXDswZOILTaGUHtOnf4D2dZUoB\n",
       "XC5Z/MqmwG34AkAUI2ocNM6IoNZGXfiH+KhjQgB/ktZrZG2UpGAWxPkFxn4IZYwOeJeGP7bgSgEb\n",
       "cuA8HeR/t48EEkfMjeEm5vIjp4KFfgTNq/03Mp1+tJ1eBK7qImPzy985XhGbl+Lb05bDeCzd/Y+g\n",
       "YHSiXWbl9ciTK1HkiuqXu+3yKCBXwkwi5gctE+ciF75nhzz93GTPudbGTBL9Ehi/YLnDQbgQjeex\n",
       "pLyqcoTHn/g9xuIHldoSrh3/wFy8aceIoHCKV4zpZH1/g2dZNx9RgqfHper71OlT2TIEKRs3Be6V\n",
       "lU4cQNRGczRRldcCSf2vD5YhXJuc7HA+n7hu70b41le30oq6Ei+YR1tqM8u4681HMJMiPKuLli92\n",
       "Ge7HRPuSQ/30gpkolE1FUJ7vzyVMCz/4TK0iXrkbVIXG97b5/rJZElHj8KNvCwc+XVZ/ZPdYf8lf\n",
       "VI6HLWGcltB9J2iobxacji4KdBS2zQfHIooMDu1ejl+jgxDXmg/zBgA+eiAVCQGPZvW7DwWrsSk7\n",
       "FDDtSLTcN2Xu+s2fQwiYxu7hWfKNkqz0LHnZaNQgKCCztZWO8us8zOd5Cvd9lNY/BOzGgJ74r3pT\n",
       "B6DDzcva4elCNiu661D4dZEl4amptF6xOhj3R1O5SzPGeVXxv+dOaIdYQDqHtLPNdHve3kFKdqJk\n",
       "2Bh/wyJEsGc/oUKH/8pi1axD88b5FtZl6w4hoIX1xsyBHkyVrZMZ1WFEec2L1pQL/MYZbNq2R+wj\n",
       "OXrux+xMF40l9p+GknCpK2J/lEZcMpFFw9BCWoME4z1jvuCBPytmw9r8YHpsVFPtEMe4/CHyf9Fj\n",
       "wMomAjN/RnT/x2cCcSrCgzvQB5o2u2aMjYB4Z8UU54a/Ehu+CxceYn2sJXcmWuKRe2jAKeJqmAFi\n",
       "zc8SEYI8lj8PyR9LHxd1qXwr6XrdzFdqwAAAAwCS80Bk6JgYsQAAAqNBmiRsQz/+nhAHsf5wAlWL\n",
       "fwuRLsvLkOmYq58fotqPWzLsRZ2ZkjfAqLZgQ113wJ22lekRoNA4JfUgi1evdZUw67tqmWI/YIVm\n",
       "97+eZZYsjj9r9owS4WaJs9pQeMnNXfcxX0wvRFnNQD+qL5i75jK5Wh9JJtBif/+V+T+KOucocgvU\n",
       "yMvvcupL4K2tv4JHDbf9FUeM7QEjTh2sSbESnbwvqY4Zf3upuAdt1WDIhZjavLWRld5Zex0rUfsM\n",
       "P/5XOFfCvkbwwI8+8XKRgvkL9J2OoyJMtTeb5W6X3SZpBcLw3kuliST14XW2pGENvxSwAAL26cCx\n",
       "RO9w+biYqII/8vWZVLA3Ct/7Hy+msNQ5I0+tFRkiQfKSenGGNfl7IoLpMIc5Goy2geed2Z7UbPRW\n",
       "0ZOdM9g8O9G40kJx7ai0H2DASAR/s4Uy3QxF4nlGC+EBetz4lBTHDH1QQEvB4DdsN8KZZqHGo4av\n",
       "RHIztsepi/zbWPvO/h+N6yyYj/0k+aeC+V2oBu/eXG1odgOrko9bShwUd504OtRghKR48EUZWPBg\n",
       "8DTvxFNPjafsRigQHk8Xm2snBOztAekoeVS4jtGL368x2Sh6OJ8VirV2I/S3uRNDidvlbqaahbKQ\n",
       "kiaR0X9NDv/Xk2WLIFwsi1lQBbqButlFLNSwPaav+D/7LumMGvMHx5qh3gmIK9+tsy4siQPGGpeF\n",
       "+pjqN4CarqdIRmVRzCp5pIYuKgG3FSeRmLdOsULq1nsZoqhQ505TancM2J5cj+3UZe9OaTLxrexv\n",
       "gnRQiR1Hrex7H1uwlUCQDSxQAPh+T5YpAJrFiT8UMmoRFZPRhskdeCR8MzVRY6E5vN9FFfv2EPjb\n",
       "eE4leZlfC9tqm06n4IYGUp46v9sKhUW6ySRsQ7xdrcUAAAC7QZ5CeIR/BTPeF9B0wB5ptlwAAC3n\n",
       "+AdQABZWgNf2qZiA/H8x9GmZwL5RtnJVB32BxK2TnmGf4AAF09FShF3/SkGwExApP1JPlh6XyCdW\n",
       "nWLKDktIQqaFkRgIFFm30LFY9M1uvT1IEHQHyD3UqwTWkO/duN5r0awEj/UfuMG3IxIPIlGIx1nl\n",
       "NNJX+LHFpDWlMd0JJmTObSFfUDfIAoW3Dvk50OUb/GyQYEHCToM7ZB+W7CPKG4Krn6sLwwAAAIAB\n",
       "nmF0R/8H4pCyxaNU5EvAAAADAKILUqiYqdvuIZN4ylY56yK/EAAugRJGSP9jXL+vN5214gwYc2xS\n",
       "nbTc1D74W3QWGurmUDjAUWzbmHp4nKpfaigmuW+ZmXOAJYvjMLgxAk27tSiFZyoqYhiF1wgercQ8\n",
       "xlEnDsHonHr5bOj6gAAAAG0BnmNqR/8H6jSmlFzOsHAAAAMAAsS1TLbxMYJwVx9myt++o0pt9EyU\n",
       "H1cydELV9+VXgbXwITk3ZnsSqCLrsxOb8lmB8eol4E3cwSUmam/kOO8xy3wML490sh3Lb6YZajKK\n",
       "qndzc9aBK99wnEJ/AAAB20GaaEmoQWiZTAhn//6eEH/ixMGhyIpWuqhgrafnJgAABSV22qZgCGUF\n",
       "1X417eVxu1MPLWe7Xeb/++ACefzgXAJ9CKQ7bdncTVizMZ7k0Bu5YamqKU+IhDzRY37dCxqqgptk\n",
       "2PZlu98DAC3v9fPKOMwLMAwxSmAHDwxTpzxA2GraFPg7Ktg+zsnwZd5wcJ6iiHYru2p1P7LTI3D1\n",
       "Eb4NOHN2fEVgno+xRQWiguyz/0XuPPePZxo9Ysh36SgzSPkCLBxG1fpZpvDzunKZuKfKg4W5HMzt\n",
       "BWllsDaVj1XkI5SUFWwnyE5G/TOmUooRgb6Glynkp6nPfLXils5dregoWDiY1vuDiqkwGbnZml5w\n",
       "WZm1AXEzGxwgeQNHFn9L04z1zbFIrLyew86VAHcDjQqMqA3SlTQ00hMQWuoISaFGQeusQWU5W4PO\n",
       "yGomL6vcVdTV/HtYOFpV+6F3IpJa/pIuRz9qP31JFyg5vEgXSDVejqEQVCpBMykriYPzPaxTX77r\n",
       "YZs4YqCu4UN/rUVcyrKS01OYxWmlWU5mAU0CTcR2WY6wj5Zuc2Ax+7Xd+7Ck9k/mv1M6WEAJbA2z\n",
       "7ZNiWclti6lBfzHWmiVIPj5036CZfJlUNNm+H+CuEVuA2W0AAACeQZ6GRREsI/8FVTViijVls0AA\n",
       "Aw61TLlNaG7dbSu7Z7kJwfrUwpTjkmrQbtShwGCZUrAXrX9Ddfx0ABnzk8GHbgOBk1lmFoGpijfp\n",
       "TpB0EmWpRCKhHz5C2GPMf3qCqZcYkfXtVY0EPiRj0LmZWgGBOwNUND619f+qi/QEMDvnYHqohxiy\n",
       "9QFEROnFCA1oCDp5/0OJ7UnV5yG6s9wTA2EAAABwAZ6ldEf/B+J+sKZmdO3EAAADAkSVTLle4x7X\n",
       "OvYvwY0jIK/OcDoX6Vm6DWAIfCIg+02FmhKu0j+dZ+jeMY211gdeAyo6YtOr5EkUN4e9W0JCWa5C\n",
       "ME2dFek3I1i97/ZGLzzcjw6YtzpghIKewuWRewAAAF0BnqdqR/8B0IARDxeB5mAhWeR2Cvy4Jd1i\n",
       "p4khuTtZ9rcnmbPxYHg+EIf/BjUucoKN705q2nxaaeBzxvL9MTViHZSFxNQ9/qIChnthyHPIMGyJ\n",
       "taiSElxlikgWrrAAAAGjQZqsSahBbJlMCGf//p4QADO8JzxOrPvuAQBtJfRHkmJKf/bAepw0DTo0\n",
       "LLzgIrs84DQZ5OB+RN+cXgMANPr8hxEZ3Fu9d08N8WORVwrMzGtOlGIaAodXuEOxR9q71VU5/m90\n",
       "9ZA6utm8d/LKUbmZPwVNBS0nIHRKnQkixPdcNjlakVwPlapJ8tEJzNPMJ5bfDoSGRIu3o7spAC7v\n",
       "lLm7B5gFW2RVAg4gr18v8ylyQAQk+lNSORXGbE7sKE97vorHm3fgrdz9fnBa9guclCBmiNoJmTDZ\n",
       "MJKC9iroHjgjYhLVJnoZopAqP6ArUj5kh7SJ9++bTbYFqCveKhWOuBB9M34VFzDwHB5gh5nfkcRY\n",
       "lREBlheR5hj8RxBHl7lk9qAu+IAO89auJpJVfMbiaTa19nakBYdW/poWI4WVxAl0GUkyP/BsYRh+\n",
       "F6gabF1PpKZfl8DLz0UsrWyNrED8vbGoS2aXsK3oBFLKWoBTZuJaIknzsr3lZgTLfIewPHtXzJBo\n",
       "kdXPzSRqT++BicNv+fvTa9UmY7q23c6iFakd/3x/rj1xqfAAAACNQZ7KRRUsI/8BJioW+yMVlCV0\n",
       "pXW7e1O0nPtQYraYXL09CUe/aBypcVA4wP3L/3QFrTQcXjJ30KLS1Hqmc5xCni4JqyKsTnrJicNC\n",
       "VDhEXeKWsLrRUwo4Q0uYevYwYN7YaBHVIWgFsj+3EYEKkNQhx5Shea7toNkprHwW/OesryYUcCiY\n",
       "b/yBIsdxcOnrAAAAVgGe6XRH/wHPinUENEG+mPE6gePp03brKFGNa6OzrlScf3X0v774IxA2KwmS\n",
       "9ssIsyaNW++3KPbss/kcPD/D+q9efphG5Uk36I8kkxGd3wmmxklhhCAsAAAAWAGe62pH/wHQgBEP\n",
       "FyrmKlGY222JaSJQsLg7AzwD6Kn+8khFFTAQy3kvBp0xPuMrX9PBKNicGTlxxSj/ry6JMEsSPjnN\n",
       "LqQAVu5ftVQmVQMHIe9FMKMfFSwAAAGSQZrwSahBbJlMCGf//p4QADJCMys4UpB6GqKAafcLyyNf\n",
       "mnfAcafX5Tp+SOXSkWK3sDnzv0bQwneQQ2NGYQZ2xvGmboIeHkL1Wcz8hYvi+n9Yfww46Hd90trJ\n",
       "75yjdHYybHi2b2YhaGJ0k/8aHFTYlMxUAdGbvX7BgW0OoYU8/FKwexHwOGSHXDcT+pv9GgSiGpv8\n",
       "5OYpRrNUfpailp6T1BnlBjNb12sX+nt33nsnZKroizmr9lkYeHI7OTcAqMX05qWwfHz/mUbFjVK0\n",
       "oCzZ6zFIAj39kFdOplZ+uX1vxdIJ6rdVCbn9MD4MMc9QTY5DZAuv7GAZsHmqndGBu/djqsNGU4sO\n",
       "kwjEV1oGVXLgHe5jRhtVY2ld2O1NHjq+I+LDSDO295fAhxXkeDLMwO1KJ/me/vxYZhaO3jU6Y++Y\n",
       "TnxdLn/67m+FSt+UONPVBQJMkrR/xW4LW+SnQronQq1PROTyLg4sIpJYYWU8sw0Zo6/33cjNTL3M\n",
       "jwLM6y64DXN4syfIde8FMAN8ZQaQjkZyQpJhAAAAkkGfDkUVLCP/ASYqFvsjFZQldKV14lHF4ewj\n",
       "EVece6+A6doiFx/3poovWJKbM1Rl0di2EM+SzRug7g9RBPc8/SKf49bq4yo3rIzCQ4Qb8NmWUChv\n",
       "GZpMv+wz6LTCFvjcq3Jv1ADmb9b4P2lyIP9X13DvBuYEHpKi/aLqxgrO3HDWhT4KRZpoAxFpTD9x\n",
       "xomGJuR1AAAAYAGfLXRH/wHPinUEM8U6E5GN7m9E2yz7ZHJ6lzletvuIw2cU3ADlE65d0aIhpdYO\n",
       "OmzN3LhaWihR1xcj+BYVpSc8wVRTtUmZ/4RRWY+D+62Aq04n+vTkmiz/YryNv7IkIQAAAGEBny9q\n",
       "R/8B0IARDxeB5jXRwzc8gBYTXhBXaZLkyvI7ODSPrJ0yzH+QGgxskMv+99WoGFHQAV+zc4LBKDI0\n",
       "6Nuo1cz+IevPypGmhPudya7Rgc3DWU4I0LBbX5olyiZv16BnAAABJkGbNEmoQWyZTAhn//6eEAAz\n",
       "vCc61AETHFqdXvQAWv49TPtlaMELpBuko7l+TnJ4zWh9+D9AEi7jeXazj0nqDPKCgRxEHTnCfp2d\n",
       "5MUEJ8/8dra8IQWjzKwrFgnZpPcUQx47Cg/rmYsYwyl0hgszL92kyZPgARApF+7LP+oyuIwfu33d\n",
       "Kc+aVUey0tT2LokfF542hUx7T6KjxZkfGfoAzXM2oP7kbo+hP5TH1OmVstQAxBA3UAlwdrMvSs+E\n",
       "TqHokUXalPLWTVn48o9iyc2t+C+g2Tky7gxM64rq9Gb9KvnzTWMMgrxHILOCKpanSqG5qiRUgaVc\n",
       "QAbyctIErXDd7p3LlQiSbONAFusbjOljAozrREwUmsf22w7SZd+ABdHkL0d46DEnQAAAAIJBn1JF\n",
       "FSwj/wEmKhb7IxWUJXSldfTbyDW4tJm/c87o2gSY1WOIl1aN9y/00guNLkXlE5fTYfP4p2jssyQZ\n",
       "P3mUw+Od6GjPTsOCIDC/Yx72veCIG+IDbCqPlnMDAj1nya0Mos0U4EoJ5hY0QWwJF0+C2GrxP2PN\n",
       "VQWSE45ffV2kwGZBAAAAVgGfcXRH/wHPinUENEF/fqOUgUQDFWD5BeIRkQcMHMIBwwrJPvKW7dwc\n",
       "BW1a6CBFU1bRPXf3sxU3eEwJTw0Vj1/Q6YAgJ19ThEMi7jZMLiXTooAktuFgAAAAVgGfc2pH/wHQ\n",
       "gBEPF1nJCRxGULyO6gvnCvZYXTXaJ3vQs+wbZRcvibX18QI9RJ4KU6Ulw+PsvT4J/7I7OvEayDCy\n",
       "3nrg9YzAnKiWFCyJkrPvJfbCZIo/AAABOkGbeEmoQWyZTAhn//6eEAAyK9aTgYYNch/oALZpfX8x\n",
       "FlLlPA7j0mk6Kk+sMq2zNNj2UL1a6lG9X60zzjHLO/uiVewx6unQET5cdNvzRCE71U3YBbV67ehc\n",
       "9gPabJWf/dfevh0QsbONtuVh7bEd08DmAwH/4q7vx6Nshnhi9vRWZCd9Kq3xdF1Eb4kT9neG7yJl\n",
       "yREM5ux8o/CjebZeGC1mxX+5NXZgzo2F2QUS7VgPFEG7Xwni/0BEMCNHf3DouZI51UXcKzmQof8P\n",
       "eG1cMT3IJl9Mfq9Nv4nv32pcCV0ID3KRNp+dEg3kF0OTQTF/+9wz4/6mM2kYJJeXkpm5jxU7gTfc\n",
       "KeN4XKks8f3LJHkk0X8QhFzqbLeIb4BibTlT7YchJk3uMA8BhLvIwXQG2+IdL6iVWD86aa+BAAAA\n",
       "hUGflkUVLCP/ASYqFvsjFZQldKV187yjlUgdpYq83EIVvTUQNo8WKyZtNBMGeJqzSfOBWNE87Egz\n",
       "ToKHVMUz8GmFImyHjGlBRv2yHyNG3vc98EgNPyWI/AYqZcrI857qPb8ORfHMESP4sAuJ+NB5kJcN\n",
       "HV1FrW8Np8k7F5tSyaOa5AalK+AAAABXAZ+1dEf/Ac+KdQQzeMN4TkvCMtsjaixOYWK5Aa1SuoZ8\n",
       "UhASIhp3sTj3sOvxpcPuCHwV6AkWHYDXos9ViGWiOm4vZ/R1gNQmfM5icKlcf82XUCPlZYnhAAAA\n",
       "VwGft2pH/wHQgBEPFwGCJuytZ6IfMjMKz1GGaxxxNd+z9UO1jEtJg0OTY1fckSh7MHqL8mxSoPYU\n",
       "bHTFKPU2YtSpQ2Nfx30OmxQEtStTBh1Ma/qHb6E+NQAAAZFBm7xJqEFsmUwIZ//+nhAAMjIPVcXw\n",
       "gOmDFxgAOOHYg1tUyUpX/5FZr7EbfMOCOuu1arxhsfShmVIi/FrtAB069Ic+8pER96JPz1CgHXlp\n",
       "7vZudBztE52MMAafXsjLjsebBfbbaIV4IxpxQ049JcsGDlSczIUjrxwGmmUd/npGYSkp4KtfcfKA\n",
       "ylaVe/PevzbTFPfD2rl/MvmWs5W1bE5MeDIUdDiU05JPl4mil8uhnoPL3cGht4bFOPwMl9cL1NK+\n",
       "ShtfKu+U6DwdOclm53Z35gF5Rl9uEPysmAF7klZYAfNHUAsw0p9SX8syYORo0qYpJg2jZBEtF69z\n",
       "QBzmch5juDO1HktTq1S4FRg38jv+4WLtCPkNI9fIckdPVIDzC32DIUMQzT8hu2BRXcTNPPg2GJOf\n",
       "ngWxDjqlvQpOn9m769BWd1DWO/Dn+okSd+Wb7Ydr5z56XcbAWVRP0F3QBfQYPofkZhe1rvVlhA+f\n",
       "5X9TpA9KjKGdZZDlWS5nlm9nzJG2iY4BR7dU7+0rGRZOuK0CTgAAAI5Bn9pFFSwj/wEmKhb7IxWU\n",
       "JXSldG4jNEY64LTQhTrEfJlySNrKDeSNAlA/08+YV/k9tYyNKqChmH883xvawTdGbPLOLaTnS0I0\n",
       "S7m43vfo7mol1LtyzRJgVR/3pbo7AkWckCh7TtjCPGCm73v4Qed0m1ojg2WtmkQrGtRQVXDgBvTk\n",
       "mM+fYFtXHOOwmIuJAAAAWAGf+XRH/wHPinUEM4U5P1hmBt0mwKwjHzU/uftY4Gw8MqoZERppNRlD\n",
       "I8GzyZLAyJcaOrN064iZLsyW2j7HT+gqWBYu+9PPOwSjKbEZBVA7HEgKtK2tUcAAAABjAZ/7akf/\n",
       "AdCAEQ8XKz4hF60WKZPRmj9Sl5o+dG5LKNDsHSLjq17QQw78VK+6S/Vtzb7ZUGu4e2ztTcAErtvM\n",
       "GGQEdKLZvie+ZD6Q+JjadLkXoj6hFYwDxqzuwmSJEOSViiMhAAABaUGb4EmoQWyZTAhn//6eEAAw\n",
       "69aTfduPqqYQ/rcABvFhuba2s83GkSZx8gkCL7l9PnEHDuIjQq2HhEUiWAvUwSW/P8Pl/FWnwbh0\n",
       "t+6mz5JLMIwdooeTHbUswjKHaaTMp6M47mM7qOIM2zx1/FHTB8DD5rnwnfA5GAwA3mNewSmmIhl1\n",
       "cUJw4OpI5M+N+c08oKjLpZgh7RWtqrRyk6TQ3hDNcPQssUHm+EYD4TP9n1Ze53ZqxDtzkD7L13af\n",
       "/E92vbQiBf4SOkvOc9cblmw3vOdnRUlSb7VsGHTtoomOciQTsFmUalwpGMX97d3Y4rwQ9iY6v2Tf\n",
       "R/UYczr7Q83DRdOQTkMdKAdNpeczgShMDPC9D3ca5ZxSfDjLrHwV8q4pvjXRgqo9wBbE44PimAs7\n",
       "Shy0AjIjwmE7ilUhZPeQUQaI+XeDZmgLhsuhtmjL9qgPria4U1M45hQVWPQ1V0c+tAZ91w/jqyvG\n",
       "KlcAAACSQZ4eRRUsI/8BJioW+yMVlCV0pXPdLtktzMkRt8oxt9qzJ7ikwHEkpi4/nyJ7svsqGJPl\n",
       "g3OMn1KNoti8zXNcp6HRWbAc8hRll/dJOFLz8DgAuRB5CvrOBUx/1euQL+Vw3oxs9XRg9yxI90zH\n",
       "rVSBPaX1zXDfeB38ANz9KLzu17xIM9CPpfdc6rr5DIfNeTAoAloAAABiAZ49dEf/Ac+KdQQztcUe\n",
       "XcGSZvsQVmXH8n2MIqJH2M1HVLJHdBJGEN6/UsI16MB40kKniatQ+UikDI2d6vjqEmAtavMhkBua\n",
       "K46bynY075h6Gg3NB3Cv5CkOrWThAG/WmoAAAABgAZ4/akf/AdCAEQ8XWcb4hxU1QIY4vP/sZf+2\n",
       "Gk+i/w3EdDmzm80VvINXMv1kt1Ta8YswllKgcGugeKpARvuE06Xq7MvAl9Nuv5g/Auvmh6Mg4B9o\n",
       "rKxWEEe8Yo2eTvGBAAABU0GaJEmoQWyZTAhn//6eEABHum9Jq9t6/JcRcm2IiIKdABWtA3FQpGXr\n",
       "CzZpIvWjMef1Ek/MYCtiSQD9M9zQ7IhAp/rW8oTr3bzHJP041OfnmyAY5qRaP42/eRdz9mb89n6a\n",
       "nqHUiAWEATiI1AvGZLCc19Y+cBJa3yX0QbGrBYwFdln9V1Yhkp+WfCZt+SZjXvgYyYbkpjC0qNUS\n",
       "oxlrDNc9ymax/5V+/jCIK1P5gaF+KcDyWPQMPa+ZMEF1Yj8LH9XYXY9QzhUZegjDru2DLm+Ofqe4\n",
       "fViyJJdUN/t5HuoTBTdZTzaveBqM4HCcJxlF7oR+8Je8ifL2CxWHn1ePuYNDgbj5IkzftYgwIxuj\n",
       "NlQDwgqdn4SaWIPJvPb1y4tJjANUB67lHh4kq0pkeb8HbhdMsHt9WXtGJeB1s3C13rP0/S0DvEvb\n",
       "hhTGnxFuD69cdphJ4gAAAJhBnkJFFSwj/wEmKhb7IxWUJXSldJO8HIUxPYne8z4AFAJcso5qYJLb\n",
       "1jBRPkR8wO6mjAndtaPaME7wIysi9u4eMwJa9RdWdjzvneefTVQA3lzqObr6nTWC1Y+VVEBsGaqj\n",
       "BFkwaIfh2IFKcgV/aT//HDvANJfdZbvfpgAi0xmBruMdUcEfXhRKBeHtZ/kbVU+csY6crJBZQQAA\n",
       "AGYBnmF0R/8Bz4p1BDQBhfENhdfr9x9fJqiYOFiWkbPRwB4qzJiuxMWEeYWVUgGXd/0fYQvn25Si\n",
       "aFOeWr3HS+4VcQpVw4/kt/So2KWAfoAsUGL8rYQO9WO7ojPrxtaV/Q6c6hMpq+AAAABZAZ5jakf/\n",
       "AdCAEQ8XWcb4flRxRVZbpDidQGAyDPnhvbN1yg56HXDPWRMv+ERycgsZxzz8mJOFaP6+OMnJ/ylq\n",
       "EToj9VVur3/mMzTIlvO9s5dYjX+Vwq/Phx0AAAE3QZpoSahBbJlMCGf//p4QADDr1Ct/H77DYABx\n",
       "tNICtq9BAA0E6tNGUv/6JnEPtf9oluhVTMkenHw4wHY73rkRCjlAMe5owQ/Ua+8dBxWt6EFnnhxA\n",
       "ij0HtggWh41T7x/uwllNRIfSn9Mwv/A2rCQz3hf/qkVFEYpe5dPu9kZui5CGNT+4KYuWqOl2cqhq\n",
       "LRAy0c+KHRCWKrUD7WPHWo6FLVahQNYnqKmpYCLyLkwYeKWSLqpTDTpx8HS3c6ossK1ul40XHyNM\n",
       "HfQeLhzfQffLLHVhtJghTk/LNR5SR6T2x41cUvJb5OIzzC5TGLReaLp0cpU4hFtu4YH4I1FkVPk0\n",
       "GRs4Q7jF3VxnJx7lK0rwbzBsxEEkeZv9f38rCk9/Ai3KIfUEM25NUZWlFq7zp7lVYEPMDVDk3DUA\n",
       "AACaQZ6GRRUsI/8BJioW+yMVlCV0pXSUBMmep5JqWfuOAHCHfMmZ0hInjzXNRT7sLEdWh7OMjWf7\n",
       "jUnAjhdw6PhTedHJ1mpfPO6muiXhxi8U6t6CfHKHAOVAxkXdbstwMP+sq6QxCBoeFHmFUBVGUUgO\n",
       "aAaNe+JYT5xzjpKC8DloB+auKPP8gp2yyplaDxkFi+3n3EBj9XlAa8KvOQAAAFkBnqV0R/8Bz4p1\n",
       "BDQBhbxkNiRC8bQtABg5dW5F+8Q9p4xZKWsY11OLXUvfru0957SWxRR4rexkMVyAgkTAaD4WUt2k\n",
       "eSijjgx9g6PW/mjmbDhuLVfphKo4wQAAAFwBnqdqR/8B0IARDxdZwyQaMH+LY41mIojYgNW7EQPt\n",
       "PX+xB2lzn8BYYK2Av35tntkftag7lcQfh20qCazoWLAeQofRmxT1IkR1JZel9QnJbZMnWLqcuCvO\n",
       "ON0pFQAAAXxBmqxJqEFsmUwIZ//+nhAAMTwlrQCv+g67wl9AXTlQAG69fB0OZ8Pay5uJLyo/pgz1\n",
       "D03R1a41IEh04zaLGL0VQgKB6SMF09mkSIPvxy5A/8jYVMGMvLVyP9Y/TwW1x9F+pVjpqpcKEGfe\n",
       "E7s8JiNAjRjSnbHE9PRgXePGWLyKGZp2yTw+84903CPn9r4rAvdjCr8q6NR588Y61nazugXx3RwV\n",
       "SD3w0rysc0Ccu/YYk+OITnqC97+E9y+SC/se3wWWxZdZBm+DYm9yCDLL5mFGK2Hy7XsyWEQuxrbW\n",
       "g4koBes+eb5T1Oo1CX6NjiT5rGiBMwz3srOrIblWWi+7wD+5iIbxqqG02WgsZ0G14vhLrosA7OSn\n",
       "O4pNEbPzVaUWNDdGQz1AxLlpZpF32CX2JoeXp4FYhRP5ddJsi1JYSMJnWaympdVOGrDtAtzfRl8w\n",
       "vjoeb6RAGCWhGMnIHbvkmBGFHHdrSHl5ySW5Znaxm0XEuk+w6rMkP05KAfKyIAAAAIpBnspFFSwj\n",
       "/wEmKhb7IxWUJXXJWdrgyb+8oWJnFFHB60Q8ov/NMBOWslVchrIH2ZBte3Dh9ylS804hjIWpiOBZ\n",
       "64nyLnmdyTtywYHRi2xRzYgSu99MbPYk6+iABUvUbjAOfLar+MFtfLaDDGAchlHqnt031x32xmrS\n",
       "GjAKW759I7zRlfVbzVKmz8EAAABhAZ7pdEf/Ac+KdQQ0AXT5GeHPU5OCoTgNpC4xXvRuWsJbVJeL\n",
       "pQRG1y4fwI9wmEWwLYZIyQdcq4zUZFmuhdBit4W6fzkehWxqnckX5lDIuIMMuKkj6BYVj97TuO8m\n",
       "Av+ngAAAAGIBnutqR/8B0IARDyyPcyj+vpxrnfwqm4myHFQJQO1yc0fgb3Yn3p31aCuIUC3pl5jt\n",
       "W5TEL0Niq8otPsu/OmVl/mpaeOSREkza3UiSjGIAWthFmaDNfYI0nTNeaG6RlHkZSQAAAXNBmvBJ\n",
       "qEFsmUwIZ//+nhAAL6vRw61sARPNB9E9Pa6eT9E47BSUxXvBU6o6c+1MJKCOQxYJQWdhMOFNlZH3\n",
       "/vm+F1/snh3yK5hNXd6toE042EMh50tqKp1F4RUaU+/cPMAWagWNw5Fq5J4AdIQZVoTMdmehPoPs\n",
       "4Yjoc+NGFo9PKRbkFE+ByOy98K5uY3L9obnOpMO5f8kK0dl4fxdjK84iFy0C5oCFv/jwd7fM7ubF\n",
       "Dw/5sh/WFRr/00AAK39yhHInN14A1A6U6x8o8Tano0v6XCHsQ5qFEbKbMGLrjrga2w4R4XIk1FVi\n",
       "0B27EtkzR38grKb/pRDFm8OUHV0avp+CrIKzaNY9vHLBz01M58tIQdFCTe/pQkxG75QeO8IKdhT4\n",
       "pbUa1jn69PogSKAUVoeZPjbw7cVemyHAzYRZGqDCze8QAUyuYc2hf3U75sJ4DE7qhz3vkPwjUta9\n",
       "OOThAak/kLXBuDSMMysEWhA3YYASvRB/gQAAAKpBnw5FFSwj/wEmKhb7IxWUJXXg4jIul9uiEOX+\n",
       "T6SXuytd7cABwZc3sY1rHene5n8bLhPUypVwVvApR1+lhMTT0k4964/fAw6EKxJhYYOQrxSMlSwr\n",
       "0LNnpmUJpttw36TNSBu1zPKZ4UVrNFCOvmbiX/mOtb9OlGreFN0FHMmJeQxEtQl1Fp7/GlV1zF41\n",
       "GLAQkNOY9EOY0r3k6ZNKG0iqE8awq/YFrtKndQAAAFgBny10R/8Bz4p1BFDf81oEXSRJI2G27R1/\n",
       "+Wzi5a/bpKKeLrCZIf3c2xPscULL5GcV8x6jVkLNSKxafhr43ln7QlDKTk4N5C3R/3Ygt/Q8UCSE\n",
       "DDtUmhCxAAAAXgGfL2pH/wHQgBEPLy5XqHy7U+UOoSvrf8uABcpO7PfRPkMceiuYvjKPSJlN5pnx\n",
       "rwvH0TtDhfTkreSSBcoTtoUvDy/itdiSsYw4ZVmUK0O562QcNKwPw+dNWvtxsuAAAAFaQZs0SahB\n",
       "bJlMCGf//p4QAFs/onO47Uw8tZ+JiLl5iKJcG/xiAGlQLj4ekJkVcwCSHfm3F7GUS1ND29UvCmgZ\n",
       "9hmLZKR4qSJHormyxv/OCIOaDOirB7AmJS497rTRj6RLbB0v5B7A42NdUXigjWRS6bPKw+SJo64U\n",
       "UQ3favusYNJgIyN4qswXn/ZvTheNh2b0cl/h0u9Xjnq+zUmxQFIq/vXWbaWzdVRfJbKdeHUn73pF\n",
       "vnzWt4sWXjTS/BF6zppkPpisl64syXw5YEk64QG4UDmMUQo9OcSsKk3QVZQzltlJ2WbvVRWoF4GM\n",
       "3Mlw05s6ZBJYOsJeY7Q3Joowj2e0LlnM1ks9eKqBz+fABMkVazstMOjfOBEuclHExtRrOVDAkGAC\n",
       "b0BWnplZ0CEvE4FwBm8U4KrVrXw9B1+y+jzHb6VWRkutF1zf/z6DpRXseQcSjaSobSajK1xYwAAA\n",
       "AJVBn1JFFSwj/wEmKhb7IxWUJXXhybCdxgjwc1ADiNvc6qqNCMynJK6DgAWaNWHlIzui4+bZbNEA\n",
       "UoEhXTd1egfqv8xYDDigRU2mW3EptNc39fCL4zaM7IPiImHGqJ0W83Nhyu3iAGmuvvj4W4P31DpH\n",
       "8c5/05BNpmfBjBq8tnlFE8tKQlqzWbhJ2ErBeRfjTrKfWb9lPQAAAF4Bn3F0R/8Bz4p1BFO3LPGc\n",
       "Il3OMoj/8s0FSbk3A/lxBU0W9R2tjepWiz7rvaisTAaeacsZQixU2PhA7MjuQjTYTRgIEkN0aDsH\n",
       "Tgv2wEVrLtiRaknBj17/goWgftqgAAAAYgGfc2pH/wHQgBEPLzGDB3aUIeFqUdQyRy0hH0MAKgtY\n",
       "qAdUdaHM6S9azF3hdTnAWxR1tU6OreqXRBucsCmY2gp4gaysaKpHU4oahkkCnR4fHy/qrD0Ztvie\n",
       "LTNFBRTB0VWQAAABVEGbeEmoQWyZTAhn//6eEABa2QR+fyABQbXx09IZUXHCelpzWrpAlZnTebtm\n",
       "h+oDPMR8mq6H+7DjKhBS9MrfdcXzdP8JKuabjmhRSgwOYJKOYeyaLE6KJJegLRPtyoB1uUFAjiIO\n",
       "nDjutYomgFni3/ailMUg2l3jZqk8hr7u88mWAwT4yhTuxguIpeXkF2CTwuwyemZ3LZPGQYt+Dglv\n",
       "iVQq4OwZPjYSeOTx1kPNvXVE43UnqhOhNYy1WYraH9Qm3yXw6ywZHPj56kmxrL3LxMepkkfmu6Es\n",
       "bJxjOHHuBoGEzwC7HlbVCMeXFvQUDhJpk9/pz/IZG2Q7nrqGuux/yAu1ufPrclFcp3FBk9vjCjYv\n",
       "YpvHqDM/+b9x2MAq1uiHyCZiatqpdtlZXQObk2yz1DAAIWsw79m3ZNkOp5dfD50O0hGdgpaHoMnT\n",
       "xyI6Z8ZLW3ht5JEAAACKQZ+WRRUsI/8BJioW+yMVlCV14czi/TBz9tyC4FlcsCMcDKAICtMSD2G/\n",
       "eBSpVMrC7qc4NEqC3AHNpNEMbqDmEqssaaDjApUKOYKPR0iTaB4MnJS/ge29SjSe+nDaoYp8ZcKD\n",
       "BeUx8qx/q9HjAKTCUfLeRPmUS2dCoJTan1f5osmyFCqTcTd1qroYAAAAZgGftXRH/wHPinUEU7wm\n",
       "ieA+e0s5AWyqEjKb4U9BdV61zx0233LYuuhml0/zTWhP4rTT8TbUfMRiDp7BbvH/GpPCh6YyD2SA\n",
       "t3FUfeLtV6gV/N5hMpgAuqPr7Dd/xybKxSSkFR+hKQAAAGABn7dqR/8B0IARDy8xgCHMcmbj5FiO\n",
       "xSDnrZyVtxUsZQp0RWEl/01qlEAfY1UbA05O7EREV6hJusWF23CqbQf/JbuPBhN7DTiLVdfSKTHq\n",
       "HdIvcNvY3XtFYR5S1HvDLYEAAAFeQZu8SahBbJlMCGf//p4QAFqrqFdN4AOhaT9lkmaw6sE92BjX\n",
       "WiR2ubCACiThva3UkYcttecqMeuyfJSWNiQIby0OYgG/GDy15iAihLx8nNT4XKDnh6rMEAJTT6rZ\n",
       "Voc/9YXgx3Esd4TovSyvGZGbJg1U+cfP6WSjEjl9nxJaDoHMkpeUUPaQvrEhBqT1Zkyt6SSsMI+B\n",
       "coYRRtYqy0uJX56NZyq6YAE7rFHfHHC2y7883ccCfim6YaI908tgTyqm/H7M/CqO3VbF9W9O6KzW\n",
       "sv35p69JJNtVW6YIvmEzhSVJxTWa2Iem3e18LyW3ojoIhYfgZbC/FH1ZHdXUiGPo81r6YUT4WUj7\n",
       "o7ArPCYRa/W61YMwep7x/2+FpuZexnfOU/SwDey6uflsjh+SH8AZ9ggI21C2C9u66RDSJWyAW57r\n",
       "6+2WNh5T0ONfvtvx+yyCDiDoKCG+E6fNn36A2nYAAACeQZ/aRRUsI/8BJioW+yMVlCV14c3DoQBR\n",
       "mqsAVEnRXgldZd2if+ektYTNhxAYlCaiaRUFWfqlVQL3GOrswBcf7nmUt3Ruv3j/ZziysNM2z/6n\n",
       "nia4+hafXcIdsfBF+pCgkwOCuplKvPkNWxy3pKZ22wltLXOGnZkCsPs3UaSs2oqEcpKdt3HW8wOG\n",
       "R4lYLemggjSocQcFHFVTrCWwtoEAAABmAZ/5dEf/Ac+KdQRTvDffOSWV+7K157BYu3PslJ5e7PG7\n",
       "y/HddHivXrrVD4SsPvi0SeUtq6Hsjzc55tdj5AprIJgzSOcj2/jArSFZmzKifKX0YbWZmiTDz7Wi\n",
       "APB3TuFHy3Y3oLmfAAAAZQGf+2pH/wHQgBEPLzGA9D7B4/ltaG7JAJ988z33fuuIv78AOjTmF04n\n",
       "7epN5+0pUIxTqGRRQ9sBL8pwDNOBzC6uyCHIRaudtHy6tHTdZHwwU1J1U6Y5tkAAZkVg5nCQ08n0\n",
       "FqohAAABm0Gb4EmoQWyZTAhn//6eEABaq6hXAPM4xpbAA4cH73UusEtumfUzRMvhp5K3utrstyOw\n",
       "cfzHqAiio9prQ8Ovab7RtCI4j+CzFMx7MBg/X0olebOEirxC+QNUHpA80Xcj7bJmZLG0DJ9Kqm9N\n",
       "FgmkOlroGqHOgsmSxeGFyeTqGv5VJN+qreygcdG9yrBZ/pmEoNKj6M7oThvkG+TI+dz/48gcEjN6\n",
       "ILu1/IOusxduNxdu4lC6W3SPLyATlkDw/UYYzBYh7ci+F0iBb+XR/+cSuL1RA1+APe5Rf5sfVB3Y\n",
       "1h8YObd/1Je/iZAe5BXPk4fo1X1ceaKqWEU+WQtdCc5gT6kTLAoY7XiCz+Bokyd/nRBVIlSgrPYq\n",
       "es5nPT7t9knj3O+H3TpYN3NkXrenH6fAIXUI/lJLM104LuX52o7l1Zx2YCl57IDMJ59c9+bb87nd\n",
       "GAFHguKoa9stSWAtUyGvKb8/1zg8KcaULH1hTKCfhfF7559hq/Xc645uE0rC24NmC09Kca2vAX3i\n",
       "hqJHXYxWBT2WvjwhapeG4qjPgQAAAIpBnh5FFSwj/wEmKhb7IxWUImVpGf45B0FfsHKEyGP0Jx/+\n",
       "/tKz7vaGN17pLpdz01oK/k++LzcVOZjn7f8UZv//E9Gqthq2wUTsboegM6MKqZR/5kQSfLgIO6uO\n",
       "vxBpNnWsjVBU+TOdRxEzaW4BjPlhSXuU77eYWsipuKa8QnxjGbn31lu5J8IAtoAAAABoAZ49dEf/\n",
       "Ac+KdQRTvDObnbveVxhRk5o/L0L5U+JmszFvxxGKuEqfebDONyOc7lDL7LRHRIFJO2qhg6i5YNtB\n",
       "DHX0lBXgD8qgl3T5xyLBHhnxMuQIe9d8fscp5C8zZWnLKRwrrr1/WpAAAABkAZ4/akf/AdCAEQ8v\n",
       "MYzSOIx9NH3h0GFqAEff3Hhjb5bZuC3evxMvFyQj2jo4EV8tTym8m4GiGNTs+ph4ITTPcy8ib/mD\n",
       "6ETqimf8RW0SOXobNSEDxo5BGXPdlHHXtOCS5DarjQAAAWdBmiRJqEFsmUwIZ//+nhAAWzmXPE54\n",
       "zhZ0AK4mf2dG7R1m73nhgBfbCU3H5+3yYjXMznCy7kcWs3Iupj66v0RBunTCJ1gCdGERDOS6gXHg\n",
       "pYgIGghiYKu8I3NbdZO0xgC+B2pH+d9Q7CcqSdLAWeZ7zCVju3qLSpQ8GwUO+XyPS90mcLNhDT/3\n",
       "VKbIWlhZczt04qTAX7u+FQTYiYg1nTyX6AR3HGPbtMHPULrqT7/j3JD8wO6RItitfOgupxVOZhTq\n",
       "zIjLtQilnGFhjsZjRhcGzioccfA0zIJ+5520sUavKtpaxZMhrWNMDupFJHj+pBt6P9Iq7ctk7enT\n",
       "P8NcJ+unRZNnyHfbxVvO21YsopcmuTkPluqQfUzdZ/Zci//zNUgWToIsxmyXEImVqH40OtekRcep\n",
       "GAemCUnuUhHlYWSMTRG7R9yj0D3kR/2VRCy/EAxhUpDNZdy6PMsT6OJxYiuV1UXx6ZaWgAAAAKFB\n",
       "nkJFFSwj/wEmKhb7IxWUJXXhyqERnSDLEYQA3KVF1NJJleZJ1zKkQtKzPryh5KhQNqy9xYbeBB6e\n",
       "r1tQSvhV2OwjsemRySAx3/jZMU7fcGa1OH7azSEO0x0JBwnG1+ac/iO7/7/piyjMW1Rtc8dsyzsz\n",
       "+g6Tn6A/p7cNjfZBeP9sJTr3a5/Iqwv5XnRQ2CI09k9Nr3Fv881q5q5wT6siIQAAAGcBnmF0R/8B\n",
       "z4p1BFO4fWGBlwCrz4YpQJbYc8fB3urHEScrpmsHwKk/u47EBiN49lPe3E4fdgzMbkd74lfsBPeT\n",
       "t1kya9tsoYCf1NqFF1svL1TGY5GBLWRCrKk81VOeFkjhIqStD22AAAAAZAGeY2pH/wHQgBEPLy0e\n",
       "pGcT20p85UXfe5NjurV5DNBQ5Hd6OFXe59pHgHVEQjsTgR05PrwyefeJ7y+bFM8JnGbWHyL17gUo\n",
       "8Pkp37DRn4i12fABPoCXOw4pxONLNSY94rreyIEAAAFvQZpoSahBbJlMCGf//p4QAFiBYR88/2tJ\n",
       "P6QA/SuoYI1UQTyiMO5XEnYNLhIdqxr/HSuNtLswrvXon0jfKHSHvPbT3xAax6arcYDoFrTNwt5P\n",
       "Jp+HohyzzLmmiwFBE9YOmh2EkWvJyjRHuTj7VH9xUQzsruwHexNHGSGiPGzGftgV/GsMIbfADldc\n",
       "yFpF/+i90aLJaKMZ5NLswaiUsYqnhCV86tjkgVS3GHWhg0wORghrWklpCUfJGezIR+OeBWyMUYTA\n",
       "nyUtz6cHwGSBk3eSG8/H2ja50JCzLNET18f2NCZWGIoQk9hxmDSKPY8XU9PFXYR3ZN1M/E4CynKx\n",
       "5Pl3BcNT6iQFTqArunBHOiSa7RbNIWkGnS+NzWSVTZOtBQPb9H7uDsYoGQcZSYVIVLxPgYbnURhQ\n",
       "zBtmHQagqlcx0s86sveecv6HlpzUJRWzyrgqP/968c7GafJp0COuPAuyT6KDzc9aFLpgpfHRv19+\n",
       "wQAAAJhBnoZFFSwj/wEmKhb7IxWUImVpDsFUYmWZipTePIyUfIvS9MsYIWdZoCumh3551/qBzwwa\n",
       "leTJyU1R0FHq0dLJwsLaI7YRB7auMU7s/AANorY0Pb5qOd+8TU1oMOLOst3U3M8NW/uoTFHEuf8x\n",
       "g7zBSFVyKyfjSVv+63pNHrPEPO07wAX6ZaxIx9vKJ2G6n8ze8EVaZGCWBQAAAGQBnqV0R/8Bz4p1\n",
       "BFO8M5mO6RR39WDDaUpdT2HsX9X/6Zw2Ixmh3QH7D4bvuFCmNfPuwCC+gV5ry8+1/YWMwNMXU0zs\n",
       "RllFb4rkFaBJ6VqE/DgSotW9MgPxSZqjoRq7Qxaqe3gxAAAAXwGep2pH/wHQgBEPKAcwV1Xn1hVl\n",
       "FIERl+zaxoJC7B7CRljG4o0XwynFtBUTiDs4U3x4TS+ulLvxc4HG69ah4Fwl6MSDNYAZYzT/8CsR\n",
       "jBHP4H//yUzofag9FAKVxQRAAAABfUGarEmoQWyZTAhn//6eEABYlHlmlGtbAEe6bBsTxg2C4gKu\n",
       "m0e6aBLlJp3zRT4ypopPiD/xYqSPYDHdytsbggFhyjrFELaevH2ijQ6nn/t/nzu0/+BTxA23I4Gb\n",
       "Do1lPyGAK39Pq1W6/VsdABBft2uIhAVXhtkuqRd9hSYB2QarnfxNDOjASvUFjuzAY4X7jWmPqZ1n\n",
       "z3xIb3TxglvnaP7a4WmGJFXuPNkAjuAWuKg/BOwk7FYxh6ODWG8YBjfw/DeNco46inU9lTHQWpph\n",
       "87OsPp+k2zkc5TselArkjpxhkBdJby0cqhG+hh5oi3jbKkZrFhjwa7Vhz5/FI+hlxoT7fMS6l39N\n",
       "zgDWWNetkKNmhPBsG2xpCtCC56yj6gIZlfkqgVb4WG4wl3CJYTtdFrfMAmHH9o5RztiwaViYK57+\n",
       "g99huoHI76vyIaYAWKgByiDM0IT2lRh5cGHQM2WruNFCASQILAjZxi07iVqo7D5PHelHzhTbyt92\n",
       "N37TcAAAAJtBnspFFSwj/wEmKhb7IxWUJXW1ZiY6i9haGA2x+96wbLPxuy2RGzs1LHPp5A323Kun\n",
       "TCA+qogxyT4+e9FwAt0RGHwx46JxtmjJAeSCFhPfTbBCW8pPop69dO1/WvFx3n85ue40Ud/nIDxe\n",
       "Q7jWzSbzr6VZJ0fuXVi7ZXGITuCXi44+wAADkJ189YLGjHSrF8GhZHr/Pj9ISXuvgQAAAFwBnul0\n",
       "R/8Bz4p1BE3Lj4mF0RpA1pawM/8f16VAKM840UZYi7EDqd0BnhoJuVbQs9q+rzzkiMQ/1HHE8yLt\n",
       "vTZbaPNs26GSqextBBMLSVEez/gYFHMPYNLJybhI0wAAAGgBnutqR/8B0IARDymdHjoZPpOCbE+J\n",
       "JRFytQdaDVfn3VhavqIy6E2mfSsRVzMk2nk13NCL+qMHAmQgQiaR8gY9tg5NtbPXyQVH5Rr/la7L\n",
       "dad0voCqKvoNavnHHGjZ7c1PN5E3QqlzcAAAAV1BmvBJqEFsmUwIZ//+nhAAWGtsj2iGkfwA3OaE\n",
       "4waiaN9/BlUs9E2EaVqSjSlfUQpj1U47/J+TwYEZafdoScax+5U7X6V+2ufXlLDqWMz0oWd1XC6N\n",
       "ypzkdRULEyWc4LQVGawArpnSygVX3MYF+cbZWXJelKHLewnoqj50aMtQ2of5YT7UGvL6/VgQiwqc\n",
       "/LmbB2vP4t/IlWdqOvSMUmdMzAz2gNioYGtheHB2XAsId1BM/0D1f8ro7lANv0zPku9YWB0i7sDX\n",
       "2GJt72z/1CHoQ31qxLln3rBeEsEVZce34XcgEupGBK4X+SoXiqDx/cc2kzgHjPUPkFownCwQqW85\n",
       "vmPy2G7vzd3oiJfJJrUB5BYXet0bJmP0t1vr3zU9X9UpoOnjsHBfiOHM+81SkbQ55nktIJi/oiOl\n",
       "TVC8BuNMlZXjB5y4aiWdzP6qZxiBHYiH1DRyHDlC2rLc7p95AAAAmEGfDkUVLCP/ASYqFvsjFZQl\n",
       "dbVxrYHtYZ/SFjowbmpDHpJ8d9nH77jM8NesqbLRLd24aSmhzXrXsv15sgASbfTd1/HF2XoJedGs\n",
       "YQdUBr4nmSXmoD9rFJD3mUS5l6GstZVie3o4EUwlLZI8qiti62B6sf4/IQglu+3jUVjWHKORSuwj\n",
       "/OFbSQUlD0Nl8+tKbtjs417QuXFBAAAAYgGfLXRH/wHPinUETfHklQVlGX6sqqODumsAtzTbJrGz\n",
       "ZrIWq7x5IA3Iv0WFUkYNq7kFQHC1m+jlMx6Hz+KDbJjocGMExOoLp9NnwQ718QbWQue74odf2Ed0\n",
       "tIeJrH+pJwr5AAAAYgGfL2pH/wHQgBEPKiTZzpTGM5Ak1kXwhDXFQ8NaZ4/lS6WxkS3HgymxRQYB\n",
       "ssqZ2EcoZuBr9nAuT4vFgvFv+iHVo2kE+6oMbWELxDnYO0Z/CW4vL+QvT6XTLZNjdIiFjFaAAAAB\n",
       "bkGbNEmoQWyZTAhn//6eEABY+Zc+/eZwBFAUlM4CPfeDpOADgtM0nsVEeTbMEdcvLWn5rHk62RhO\n",
       "/olQRGb6sQs+qP5Fyw5uHTAJp1pFaU7utQLNc5SwP+bbTRJU+9/9c2/pLFU+oXkIf+nw/nqAl4HM\n",
       "cWYmYzreM84SK+qjsJ7maUcJdUxvtkcaIIQa/XcsqoQJG6+tMC5OOtyrBPiH7eQhTBNdf7SQ31lC\n",
       "+nOxScPd0lYvmva/ofn4SwjSDvX7CbtJm0x2uj4G9ifZ33QY1t9z1fgG4FKvHu3fi7eSQhwmBDxH\n",
       "QQ85gYKBR08earEZG/qthDNJ8yMxM6SMZ0NjYbDAPE8M2vhKQEiyvyfvMukdMBrHh2xL0QmkLzJL\n",
       "ULgf/vti9gFHKsarpnFN0oK+Bhzsqu0JPr6Xx1cy98ZjqSa4G4ETqbSDwOPia/GuEDvncRdtnHIo\n",
       "6QL2Bfwpf4kJ8Fouug9kMwpKJZffVQWMeAAAAKlBn1JFFSwj/wEmKhb7IxWUJXWyiVYzUWUK/MOA\n",
       "CLFWmat4mdUw6+oTTLkgLGYmuv2nqzLl62ZG3z6pPCiO4/g4FohZ2CefEDgmYqo/79qG9lAMi280\n",
       "tipPWGEozUlsRRqKDg8cfx4GTwurtPX8t2SQKuy4xqSznmH93XB++1+s9wlywuwmrEXfOHD/hZVc\n",
       "m1i5FZ2XA5B5GJ63dEQuusUwDtf3532zQBoRAAAAXgGfcXRH/wHPinUETa9/nasFKC1E8MmjAWWf\n",
       "qWz5A08IR4Cc5a58fWg4jqoK4JaHPEEfa7f4zY7CLBBriZ//bgwjll+0tPmQwah0cQXxEgjN5z7K\n",
       "s22/sun8zmbcW0AAAABhAZ9zakf/AdCAEQ8p+9Yhk4DAehCbNSqkeXSeKXeriOktTstCYGjOdhDf\n",
       "WYm4S4xAXxOyiOgnVF+PsQURbeXuPvUKWIUUJ5xoouTvgj9Up+mRc3Vx2Kr+ZxMVRTBTjOaBIQAA\n",
       "AVhBm3hJqEFsmUwIZ//+nhAAVkFh3+KGEDpNopifBADdhjMsod3Yl4zI2PhivZhOwwu+eBhVc/KH\n",
       "ZDSS95n5kx95sfxKNXBjISNPaVGw2+CYVAA0A2jVzsWqFS38I4LGaGtoDEvm7/0+APRwS3j49Vvo\n",
       "TNXEP2Bph88m2W8UBu/EFkPBD7N2+yihd/ulvL13x82VWJMkFrGgKaHKGBDFFq75nhfXwGD20zLP\n",
       "8cD3/VUYTG88DcebUb5whjXQvJ3IHvN6DE4QAjUQ0vubXNOVefWV5HCn70I/9x4LgmK+NWlwXZcQ\n",
       "17Y6NUMV+X/CVfywKdtyC+f8xqloTmuUL4XpFeq9osg7G8icNaC58oj4F9i2leO90rlsWOe0Swhu\n",
       "lzjkeJSQnsFY+YhXY0M3guqLWs4MvKP86TjUQtWZI++9CL3lHNiiQaF7pq6woD2+k/h3NzLgleCs\n",
       "9MRiQQAAAJZBn5ZFFSwj/wEmKhb7IxcJt7F7eTl3xpW6VKdwAlWnTT01GOnQ0Br61X4R6zwb4PZM\n",
       "ymnqd1tjH6V5sPBmLMYZFdaDpM9FWmoLpcx+ZuHPS0+idW/U0XVaqFMPPY1CxX89B/Z6NhD+XaR6\n",
       "0Fj33A4jWm8PPsq9H0nSFzY4vqAkOsn0J0cNw3gvobRlvcwuFNg+r8J0gWsAAABoAZ+1dEf/Ac+K\n",
       "dQRKwE2QuOqCGdy06oVZI4/NOjnC//MtE6F5raaQlGe9KE9fFDpqm9USZPdlKn3mx77awjzrcjDK\n",
       "2iVcNmuvbsn42MePq0B2C68DDCaRc9gFi2Dw89VtQeMvy/K8t/kAAABfAZ+3akf/AdCAGbhvgh4T\n",
       "OOFyrRKUQjQk+cCugX34/p6CqGJasFBeNfq7liU46BAMIlxRf1dG+cJYvnsy2REJl9iP3ZnOk/My\n",
       "JUTFiKdi9kQSI0bkZbH9634DhgR0JmEAAAFEQZu8SahBbJlMCGf//p4QAFYrmecA8zjFyyVvFAAH\n",
       "+KGvVLC2owL4cmjaFt9IoeWsVdtpTifMPr/aY2H0EZOfLRNkIDu1V5ECTxCjeXIiFafHa3BGFhGX\n",
       "AOePnwKLOt118kwx43D+q1dF8rUIUDkonnCg6OfQd1434ffLAR/mFx/lBMVJfh94wS1vgoNhMdYj\n",
       "+jgwUv6bfsCuXf3grXre6KZgqXm1/LgU7nzYpN98qKQPFN/upzwiR+g8TZnmSJa2Y8b+ksEIQX7o\n",
       "H3gQ39nBtkgUZ4n5fuVdpL6lnj2herUnxtrOLi9VKx1OSUEHsThWo4Ml1QBzf/aH+vaqsN5mnwJU\n",
       "nbPOv1zAML8XVbUhzzO49BcydLK+MYwcTYgGk20zQKjZlobiyuONvIItzHeUkLZY8pipaprTaceU\n",
       "dw0lfQlvb8URAAAAokGf2kUVLCP/ASYqFvsjFwp3qL28m+r2VmOZZTlm6mIcxt4iZGFgBCZYe+YR\n",
       "CKODUofEgqdFVhjTuyeav4ir6NkC9PwCFHu45K4ZrHXwfRx6+VWjFlMANhl40wlX3LXdm18VRKQ4\n",
       "BZBWEloMRyAp0HwVC0l7BSaqMLKw8ly3uoZtSnXf5iM+Qa2IAgUBqADb35R2vkFTj/CNJqHzhbcK\n",
       "+/y/wQAAAGQBn/l0R/8Bz4p+SfQ3qx+Qt43b7oINCxtboWjL0NbEtiYNKeAe2qSn2VaHIHMA/3ce\n",
       "hHI2z9OwUHVJk0Ne8rn+diQd95i8vEyEZcL8Y6ZOh7aq9kaznNPHl5tTLo7QNbVxkRNOAAAAbwGf\n",
       "+2pH/wHQgBm4b4IeEzjWIftPTFFw4oWKld5sgxfUQdNO2NrIyxJvB0fUhvKQrqoT6kGw0vzHT1n4\n",
       "18FgqzEdl9FeTpfUhB4oKE/CX3ELGzvBlI+FtIJC/1FjH84qdC0YJ2UcfceHl35qYZKcPQAAAW1B\n",
       "m+BJqEFsmUwIZ//+nhAApH9E53HamHlrPxMShvS/LM1nmqYiN9sADertaZCInXRossevJX6/SE3N\n",
       "K44MNVod2o0XfV2ao1V678pQCb2W3K37sBzXcIXvEilNpBH5f1/JOWKcECBkOSwO75BnrQEmtmqV\n",
       "hPxGK75igRwOM9cfpeZ/Vx/cXdhhPu4/xuw982+32yVWIg46kWH/xNs+eI9RlOp9P1ZTz9PEC+L6\n",
       "+GWs2O1egaTqBoqqpv8BiYDQWHjyPitd9OJpHHd4sgSEKBWIof7KgZuUwTLl1GSk3TF9VpNrl7uc\n",
       "GH2iPrt3vgMINc1fgV4/c7W9IUfd72UsAvwon9bhESH+ZtPz4RLTaKLRgRDWMl1W/TP7HnadooZw\n",
       "PU+26pKOuZw3K/hPg95E7YVjmWD3UgKCfm3U8gC61pJkUupbBpgg2McuLG6RzqAeqXO4ZdOgfbcV\n",
       "7EBzWQDaRpxZcmYE+bbH3BVpvvX7swAAAItBnh5FFSwj/wEmKhb7IxcKdT2M61G/QrIMwkzR9bKc\n",
       "6TtSKOpeViwein4hvPU9hYW9JKk9XQqmpFoPqTFHc7xzjkO/1eTKtgKogxBV5QY4q3OA6HoXsRGj\n",
       "u6OpSVd4GyKBx9IURq9lP20akwIhesmDRQizM5uwZAl98yUBhr/FFzSLFV73BUvIMD7gAAAAZQGe\n",
       "PXRH/wHPin5J9DenxQ3sTxvVyBM23HVLPSP4PrzSb+SgYI2oaBLeg1CdK+U0ddG8WAcoplNeZ3nt\n",
       "qYe7mnwbiCCIX39ZRtCcxr9wS5XJKCqNK3H9H1/lqEXuBsbHfp1vr+FSAAAAaQGeP2pH/wHQgBm4\n",
       "nFx9iztrJ64aNjfWK6alAsyTN4sgPuM2QZgcHHCczsk53P6NHDdTN12Fi0abQIfONRyN0fRkI/pY\n",
       "wEY478ilm6v8JUQCq5+zU4DFMzFkJjQaoCBm4VxFT3B1b8NNFQAAAVhBmiRJqEFsmUwIX//+jLAA\n",
       "qnMuRrCZLFsAobFA5aS4B5HPS3XiWa9OcF4p7AltcSNeqKEN8vZEjsl6kO03dWg5o17ePhcxQKoT\n",
       "xGrO/n2bLrqMoq1SxtsXM2lxYavM8tQH7Q3q1byfyNmtqpsOw8T6seZvn0qiNDM3ZTmx4YHp4FbL\n",
       "OHcjnLJgWA1fF6eeNRqT5q3MUzjqQv+zyQ+ViM+hNPkFlmEXYYi4m7/27r9iPYnW0dW1KA5LHMTL\n",
       "zDNu8yA6U2KoMFuOvHmeyb0W6FcxfinmfcSDUxYY4gN0L4mNApyQ9LbTBsAhexN0sgXLPtOrv8VY\n",
       "2EX4MlxIl7LR5f2x/CDQ8o81e0q2bqVrFJX+LHLY4k7AbcOOveCQAjj/76ve8jM/2JqWgPt+e4Rf\n",
       "ixdDIff5lrouPydljw3AUB7JC4cKB19o/iSS+os+mZASwV5vyJVhfkpHwAAAAI5BnkJFFSwj/wEm\n",
       "Khb7IxcIbmIoa1G/nIm5+hHzBlmRlThn0AntZkkTwU54wjcGaq2WI8GV3TAIriEOpVAs+HgPmfmB\n",
       "/po5GMWRmxFPAoKUC8JXrmiIEuslnBGXWiDBxph1vRrFc6utVzqH1iyRF5gNQnI/OwaKUCQu7LfT\n",
       "f4PTdFXpMItJCJrwaT+0S6E9AAAAZwGeYXRH/wHPin5KNew8M3bnGIVHUsHaA5EDBN/AQkN5ItZ9\n",
       "2qyjEHWhQ/Xk47/c34KxN/7YLraJffO616J6QRyF9M6wms64VBa5ZGXNTNYd2i5z1F964WRqX6jS\n",
       "i0rw3cYWYWZ29TQAAABbAZ5jakf/AdCAGP4z3s+nsaGg84bFBfOfr7qYptCqQ9DZ7HFJLEXS6/vg\n",
       "LKzRimx+vJ6egrykm0hRhaVXwLlpi+uaW9G8Ue1hI46fAUtus2Byg+TEWnwUYLFWVQAAAXZBmmhJ\n",
       "qEFsmUwIX//+jLAApWCyypw+cAZWfr/BewKWtp8yMacuSEM8eE87+YKsTaRj+HPEn1g/pwBPOk+n\n",
       "rgHeTT8EUyejhVpdCAfDjc96DiZIo3xehGOS5fClkG86Yf4KgB3HbmW48+tpenPaIXv8FFoMkzW3\n",
       "RvxThsUj2JHxawmY02VUfhaybf6BVxMj8EKUgdXLlBg6+HL6RVlu59ZfOzLRmEYBTiL0kapsEJZh\n",
       "XfHTur6IXLiw2QRJoY4i35i9/HCkVoutwyK+oKgRNTbdsdTYyWIGX+QvK8khtDWaOGo+JwvF6sr9\n",
       "cFXiP4QdS++C8rOHqtfCLvyygPww2bbAAVe4BUb0/Ul5L7Bu6fljO9l1HOWfSqGQO63o27xXvFN4\n",
       "RVPcwWayEQLmRjza4wQLidaqPlkcoZX7SD5hCJ5kPGIvzJicAcMSKZkjnLzHRMk0MYgiM6QE6BVY\n",
       "I0uZGh8JMfy8yoXajyDV0zYycNKREMx3OH5j/wAAAIxBnoZFFSwj/wEmKhb7Ixb5g7EyJrPioZbb\n",
       "9uQeQd0+/WiSBNbwiTAE7j66z099PwklnfPemWJXrlCibfouvdukuZcBRr0Cc1e6oD2eSbfhwADa\n",
       "XL7ahEVTNdd+vx1RRDY1zOnSyiRSp6ELw4TSAIgq5V7I+Jj8kBA8pktb/W8G16ob6DOvEUdsGfAX\n",
       "kQAAAGoBnqV0R/8Bz4p9su0/fVYMIGg7VVpBxsCqKb+W0/w8nX4+vMyvz95XrxDhtY6moNgissc+\n",
       "dPwE70XpPD9UhpzPr9z4tIr1a/lBrV91DUiUyg010Lp4Yyrm4qN2QY5CDcTKf1uv6FrfkMSBAAAA\n",
       "ZQGep2pH/wHQgBhvLIHUExfZ/HyWMTQh9iacSvZ99KEnqwn54yBoFe3CVujyg9cYAgOuHEuYXqRL\n",
       "z3ofW9pkX4K42a2WyCVkOh+jpFlQhaAdvKSChA8ahN3FmshltGjjWspnApLYAAABQkGarEmoQWyZ\n",
       "TAhf//6MsACk1DNmjeo2Rg2uH7h5sFfIBiOAokEjc3DtXXCT7Lyst7fwAA3AtjHkvf9s+/oN/eO/\n",
       "Px3O0kDvN870/YIcU+444qiy/pA7kqaXtenkKuXJdYVo/mRzUDlKW0QVQdDEHvX2ygHbzt2TSzSF\n",
       "GWbYViwmy5LhG2XLsx57tNaAPZqFTgxDTCQ+lkq43Hi+ELlvEZImpR+RdONwYgrDgId2dAliDPSJ\n",
       "JuBqekeVM4NELjPLxt2abFztgMgpamjnbN8+v59mXLsTNE23pMsxc9npZu99FFmWgH+dP+8HNcYK\n",
       "aPdeCv2i5WeAQ18zjjBCH+oXamF8D5nkHgx+df8aKxoTdR166m48lCnq4HOhrumC6EoN9TGsXI2T\n",
       "f2Fw4oeelWjB2W0GCwNhYb3TtMoI9s6AFfeo6IAAAACRQZ7KRRUsI/8BJioW+yMW+Ao0QIj2uQLz\n",
       "YWRI8wur8Z9OjM1bQjzzzfgUbZDdjSYrPLZmYMXKbWPon3G8gbWlqWk65fEGLdRwt2O+zKEGNUjX\n",
       "vPnwTXyg7UkgUQAz8m8dX/0xyIj99LbEMcyNMZrCdjXk3LTIlsIFU0g1+JeVxRNDOaFA8fwruvuE\n",
       "Jey9UT7VgQAAAGUBnul0R/8Bz4p8yNRdGB2JiM8DhpQ/zJhbgGcmmoWCfiuUKXP0j2qSN3m9YP0L\n",
       "+198EJWavUSXuasO7BkinXO02V0ERFjmS7KWE5W2ngTATY5+fC/E9RTZc01sx+fMleaK15kXJwAA\n",
       "AGEBnutqR/8B0IAZCaZiMEJQh/sCX7QiDCtKVU3/oSKtnA95egNavXUWiO7hpc4ydklinU5MPg5b\n",
       "0MAhhTbCIQntmODovUuj2PJbHiD6aFWHSeLF9Wfax5j/kS+PtXmmWAVgAAABOkGa7kmoQWyZTBRM\n",
       "L//+jLAApLMpH872TbKqa6ABFwBRTy3gaep22bh1zpW/r6qNpID6N4ebZLOQQ+gsvrURWUHBJAJE\n",
       "3tOjBKUndBfEGv+hJRDNx3DQEIeFdGDkRxuNbv38XkxQPMaIPDfu9zRoJPAjqbjULnWC3Thx0WBN\n",
       "GGrUVbt1idpBnvs1YNNjYO9GFgN/S4bphsSZtbldKJ1E7AzyBV4cRnwEvUh+9CFG5cdkWLCYA+GB\n",
       "MQIto3BfE32EEU0G079vCz7kvd/wjw9EIb+73tRwh8okUQ2TiqXTbgkTzXS06gjbSDZhvPscz8DZ\n",
       "CjHFMlsTUhrrnQ0/jNetuFHylyUbHeDxjVfmkfEETHjeN+9GnJZmxlW/QagqL0bQH9aXOYujsQns\n",
       "5HtLDg0btXCXLb90WLQqPiXFAAAAdQGfDWpH/wHQ759ji5i/LYK9TkE9baDum6BbbgLjj0r3f7sC\n",
       "wjIJY1yt2K8vVcn+lKcpej/2ACysOZYWhEdIHCpqkOSnd7DXR3a6/tp1czIAzgUR5iNsQJQ10u8a\n",
       "aKJ1sy2qs2tois/w4AcautVej1jp1sYzgQAAAORBmxJJ4QpSZTAhX/44QAJ/yfW5usdKEKxCQnPH\n",
       "EA376Bu5TeLcxoKnQAblLWTJ7cJ74qFmSA+irY8LkUZGVfDfDUBs4HUTp73JG9kjcX2f8INuOpBY\n",
       "XIakeOtHDJPS37Zh9FhqUXBkANk4Zzr/eNru0EYjR8/fGi8f2pOEWnMEdDrXXbzfj4+EJNCsaMbZ\n",
       "1bGwLYFRQaGtFM1TLBfLc6IvOsMG+MOLA9/tqTnZpj279b7c8xs+m20zeaKNBMF8aUPYZUZONptW\n",
       "TIRGcsxJH5XOuMtTEql3AtSfADlXqwVIlhKosYEAAACNQZ8wRTRMI/8BJgp9Wd8W+G1lzug8Af9u\n",
       "WTmuLpHD+nWuh95y1wXAWfRJu/5GvC0dV57usQHwKy6e/fbfyf/6nCS5Wce8PuqVTqzawP3S4DEq\n",
       "d25bgulWSwpVruwisHhOk3fLppqYo0c9r8ekTZU3SCOu9uv5JOErMnMIeRulIaIkJ2DfZU6OH/zD\n",
       "qDnrAAAAYgGfT3RH/wHPin21W3dRrljQje0RPLwrggg//UBtAeuk/a56UwIaNs6xgc1BRh+V8GPI\n",
       "BM5pwPhvq3z5sTMiJyrJ1GR11MYC0n/kX1oYRD0fCSwC/Ph5gBLpIrORd7OKpnuAAAAAXQGfUWpH\n",
       "/wHQgBgqtjIvA3edzgetKwsIlMiIQG8NsOnSm/wEYAwMlXGrozZN6IJWm0d4IyFUSLZUwg0axvAS\n",
       "fHaEWiuFEAxhz81SQKrmtF72yVhjWfP+I/UBmbS6gQAAAL1Bm1ZJqEFomUwIR//94QAJaimbcrrR\n",
       "eA9vBINiVWP/vgn8ABPxaTDN9kH5moAWyauSXvU9lfh/tu5yNW6I9SNAN7LMtK5Wz03sXHfDuEzf\n",
       "9FmmiszPFyz+mM3utGZ1IUlgaAlxeEtOhbO+COOMlelPxW1HIms8U7HaDysR3fGe196Jnus5aNbV\n",
       "SGOQ5N92bVA2+xMq+g8+P5XXCJMPPZFRjAApJB5ez1mEqJ4BEaFZ+cE0ahqCilwfmjgYRiwAAACg\n",
       "QZ90RREsI/8BJioW+yMW5+A+9D6LfDi6Jn/tlaXWyJwDwj6ZoaU5JnSGZECSw+qf4pE+B+m68eP/\n",
       "iZ+V2fs3ekM8ZwQYXDYD8DW8sQzl73o/kKsmbCjDAREpmj8Ywcvp3Mi5/PViooiaImRKQb6pcjwc\n",
       "9h+LQBFFax7kuPlDmX+YYlFtnEhmLs57nbhLYT+q6sLiOk9kiL8xWZ/Ud6I44AAAAGMBn5N0R/8B\n",
       "z4p9EvQ74DwUXimQOqKKs9K5TS0zgcFGlIrcx5LmUOTZQAjO2cpFVEI0HNH8/fmhie+kZGTJ+WdL\n",
       "P4cnpm6MFGRZ99R8/SpW1z5sUoB3vrkMWVnSWY7wRzTNTKkAAAB2AZ+Vakf/AdCAGG8Q1VNlLEAJ\n",
       "aZdurJsv8N7teGwg8i+t8W006m67QP+HU2W5OFrJromPUwRyvYaHeLQaqtQ/ZSWXP5zipHHgDD2S\n",
       "DFjg21CDyawsxAoMRF8F8LxqMnNi6lrqQcgvVYgKOS6QzciJydO391wcsAAAAHxBm5dJqEFsmUwI\n",
       "//yEACSYnqef8DNQXcglIU/oWk2lOVCbCE+ktdRWJ6C1dL//9BxX/mClcKfWG635wAfJEGfbxF+V\n",
       "HfzpqA5dlJYlClrD25D3SPeRYmxzeqbiFQH9En7+6l7Y2onD9oHRDVhTvOEGAq0etOJZJRD7jz6x\n",
       "AAAIzm1vb3YAAABsbXZoZAAAAAAAAAAAAAAAAAAAA+gAAAlgAAEAAAEAAAAAAAAAAAAAAAABAAAA\n",
       "AAAAAAAAAAAAAAAAAQAAAAAAAAAAAAAAAAAAQAAAAAAAAAAAAAAAAAAAAAAAAAAAAAAAAAAAAAAA\n",
       "AAIAAAf4dHJhawAAAFx0a2hkAAAAAwAAAAAAAAAAAAAAAQAAAAAAAAlgAAAAAAAAAAAAAAAAAAAA\n",
       "AAABAAAAAAAAAAAAAAAAAAAAAQAAAAAAAAAAAAAAAAAAQAAAAAGwAAABIAAAAAAAJGVkdHMAAAAc\n",
       "ZWxzdAAAAAAAAAABAAAJYAAAAgAAAQAAAAAHcG1kaWEAAAAgbWRoZAAAAAAAAAAAAAAAAAAAMgAA\n",
       "AHgAVcQAAAAAAC1oZGxyAAAAAAAAAAB2aWRlAAAAAAAAAAAAAAAAVmlkZW9IYW5kbGVyAAAABxtt\n",
       "aW5mAAAAFHZtaGQAAAABAAAAAAAAAAAAAAAkZGluZgAAABxkcmVmAAAAAAAAAAEAAAAMdXJsIAAA\n",
       "AAEAAAbbc3RibAAAALNzdHNkAAAAAAAAAAEAAACjYXZjMQAAAAAAAAABAAAAAAAAAAAAAAAAAAAA\n",
       "AAGwASAASAAAAEgAAAAAAAAAAQAAAAAAAAAAAAAAAAAAAAAAAAAAAAAAAAAAAAAAAAAAABj//wAA\n",
       "ADFhdmNDAWQAHv/hABhnZAAerNlBsJaEAAADAAQAAAMBkDxYtlgBAAZo6+PLIsAAAAAcdXVpZGto\n",
       "QPJfJE/FujmlG88DI/MAAAAAAAAAGHN0dHMAAAAAAAAAAQAAAHgAAAEAAAAAFHN0c3MAAAAAAAAA\n",
       "AQAAAAEAAAPQY3R0cwAAAAAAAAB4AAAAAQAAAgAAAAABAAAFAAAAAAEAAAIAAAAAAQAAAAAAAAAB\n",
       "AAABAAAAAAEAAAUAAAAAAQAAAgAAAAABAAAAAAAAAAEAAAEAAAAAAQAABQAAAAABAAACAAAAAAEA\n",
       "AAAAAAAAAQAAAQAAAAABAAAFAAAAAAEAAAIAAAAAAQAAAAAAAAABAAABAAAAAAEAAAUAAAAAAQAA\n",
       "AgAAAAABAAAAAAAAAAEAAAEAAAAAAQAABQAAAAABAAACAAAAAAEAAAAAAAAAAQAAAQAAAAABAAAF\n",
       "AAAAAAEAAAIAAAAAAQAAAAAAAAABAAABAAAAAAEAAAUAAAAAAQAAAgAAAAABAAAAAAAAAAEAAAEA\n",
       "AAAAAQAABQAAAAABAAACAAAAAAEAAAAAAAAAAQAAAQAAAAABAAAFAAAAAAEAAAIAAAAAAQAAAAAA\n",
       "AAABAAABAAAAAAEAAAUAAAAAAQAAAgAAAAABAAAAAAAAAAEAAAEAAAAAAQAABQAAAAABAAACAAAA\n",
       "AAEAAAAAAAAAAQAAAQAAAAABAAAFAAAAAAEAAAIAAAAAAQAAAAAAAAABAAABAAAAAAEAAAUAAAAA\n",
       "AQAAAgAAAAABAAAAAAAAAAEAAAEAAAAAAQAABQAAAAABAAACAAAAAAEAAAAAAAAAAQAAAQAAAAAB\n",
       "AAAFAAAAAAEAAAIAAAAAAQAAAAAAAAABAAABAAAAAAEAAAUAAAAAAQAAAgAAAAABAAAAAAAAAAEA\n",
       "AAEAAAAAAQAABQAAAAABAAACAAAAAAEAAAAAAAAAAQAAAQAAAAABAAAFAAAAAAEAAAIAAAAAAQAA\n",
       "AAAAAAABAAABAAAAAAEAAAUAAAAAAQAAAgAAAAABAAAAAAAAAAEAAAEAAAAAAQAABQAAAAABAAAC\n",
       "AAAAAAEAAAAAAAAAAQAAAQAAAAABAAAFAAAAAAEAAAIAAAAAAQAAAAAAAAABAAABAAAAAAEAAAUA\n",
       "AAAAAQAAAgAAAAABAAAAAAAAAAEAAAEAAAAAAQAABQAAAAABAAACAAAAAAEAAAAAAAAAAQAAAQAA\n",
       "AAABAAAFAAAAAAEAAAIAAAAAAQAAAAAAAAABAAABAAAAAAEAAAUAAAAAAQAAAgAAAAABAAAAAAAA\n",
       "AAEAAAEAAAAAAQAABQAAAAABAAACAAAAAAEAAAAAAAAAAQAAAQAAAAABAAADAAAAAAEAAAEAAAAA\n",
       "AQAABQAAAAABAAACAAAAAAEAAAAAAAAAAQAAAQAAAAABAAAFAAAAAAEAAAIAAAAAAQAAAAAAAAAB\n",
       "AAABAAAAAAEAAAIAAAAAHHN0c2MAAAAAAAAAAQAAAAEAAAB4AAAAAQAAAfRzdHN6AAAAAAAAAAAA\n",
       "AAB4AAASOwAAAqcAAAC/AAAAhAAAAHEAAAHfAAAAogAAAHQAAABhAAABpwAAAJEAAABaAAAAXAAA\n",
       "AZYAAACWAAAAZAAAAGUAAAEqAAAAhgAAAFoAAABaAAABPgAAAIkAAABbAAAAWwAAAZUAAACSAAAA\n",
       "XAAAAGcAAAFtAAAAlgAAAGYAAABkAAABVwAAAJwAAABqAAAAXQAAATsAAACeAAAAXQAAAGAAAAGA\n",
       "AAAAjgAAAGUAAABmAAABdwAAAK4AAABcAAAAYgAAAV4AAACZAAAAYgAAAGYAAAFYAAAAjgAAAGoA\n",
       "AABkAAABYgAAAKIAAABqAAAAaQAAAZ8AAACOAAAAbAAAAGgAAAFrAAAApQAAAGsAAABoAAABcwAA\n",
       "AJwAAABoAAAAYwAAAYEAAACfAAAAYAAAAGwAAAFhAAAAnAAAAGYAAABmAAABcgAAAK0AAABiAAAA\n",
       "ZQAAAVwAAACaAAAAbAAAAGMAAAFIAAAApgAAAGgAAABzAAABcQAAAI8AAABpAAAAbQAAAVwAAACS\n",
       "AAAAawAAAF8AAAF6AAAAkAAAAG4AAABpAAABRgAAAJUAAABpAAAAZQAAAT4AAAB5AAAA6AAAAJEA\n",
       "AABmAAAAYQAAAMEAAACkAAAAZwAAAHoAAACAAAAAFHN0Y28AAAAAAAAAAQAAACwAAABidWR0YQAA\n",
       "AFptZXRhAAAAAAAAACFoZGxyAAAAAAAAAABtZGlyYXBwbAAAAAAAAAAAAAAAAC1pbHN0AAAAJal0\n",
       "b28AAAAdZGF0YQAAAAEAAAAATGF2ZjU4LjIwLjEwMA==\n",
       "\">\n",
       "  Your browser does not support the video tag.\n",
       "</video>"
      ],
      "text/plain": [
       "<IPython.core.display.HTML object>"
      ]
     },
     "execution_count": 65,
     "metadata": {},
     "output_type": "execute_result"
    }
   ],
   "source": [
    "HTML(anim.to_html5_video())"
   ]
  },
  {
   "cell_type": "code",
   "execution_count": null,
   "metadata": {},
   "outputs": [],
   "source": []
  }
 ],
 "metadata": {
  "kernelspec": {
   "display_name": "Python 3",
   "language": "python",
   "name": "python3"
  },
  "language_info": {
   "codemirror_mode": {
    "name": "ipython",
    "version": 3
   },
   "file_extension": ".py",
   "mimetype": "text/x-python",
   "name": "python",
   "nbconvert_exporter": "python",
   "pygments_lexer": "ipython3",
   "version": "3.7.1"
  }
 },
 "nbformat": 4,
 "nbformat_minor": 2
}
